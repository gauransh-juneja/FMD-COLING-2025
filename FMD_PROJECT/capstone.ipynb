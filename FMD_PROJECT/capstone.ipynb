{
  "cells": [
    {
      "cell_type": "markdown",
      "metadata": {
        "id": "4NssAlFFK5OA"
      },
      "source": [
        "# **CAPSTONE**\n",
        "Checklist of Basic Steps for FMD Project\n",
        "\n",
        "\n",
        "1.   Load and Inspect Dataset Preprocessing (Cleaning, Tokenization, Lemmatization, Stopword Removal)✅\n",
        "2.  Feature Engineering (TF-IDF for traditional ML, Embeddings for RNNs)✅\n",
        "3.  Train-Test Split, Model Selection (Logistic Regression, RNN with LSTM), Training and Evaluation (Accuracy, Classification Report)✅\n",
        "4.  Implement Transformer (BERT) Model✅\n",
        "5.  Comparision of three Models✅\n",
        "\n"
      ]
    },
    {
      "cell_type": "markdown",
      "metadata": {
        "id": "AVTovUcpJFAC"
      },
      "source": [
        "# Step 1: Preprocessing the Data"
      ]
    },
    {
      "cell_type": "markdown",
      "metadata": {
        "id": "49Fij_ByJLqa"
      },
      "source": [
        "1.1 load the dataset"
      ]
    },
    {
      "cell_type": "code",
      "execution_count": 3,
      "metadata": {
        "colab": {
          "base_uri": "https://localhost:8080/"
        },
        "id": "YZyP95SA3z3n",
        "outputId": "ea63ad3a-260c-4a96-a6e2-1bb033e9ff94"
      },
      "outputs": [
        {
          "name": "stdout",
          "output_type": "stream",
          "text": [
            "Drive already mounted at /content/drive; to attempt to forcibly remount, call drive.mount(\"/content/drive\", force_remount=True).\n"
          ]
        }
      ],
      "source": [
        "from google.colab import drive\n",
        "drive.mount('/content/drive')"
      ]
    },
    {
      "cell_type": "code",
      "execution_count": 4,
      "metadata": {
        "colab": {
          "base_uri": "https://localhost:8080/"
        },
        "id": "1CfZZGlwAl5g",
        "outputId": "0f7174ff-d749-4c40-a4b7-1ad496e0c9e3"
      },
      "outputs": [
        {
          "name": "stdout",
          "output_type": "stream",
          "text": [
            "            ID                                              claim      posted  \\\n",
            "0  FMD_train_0                        Amazon.com and Intifada.com  09/25/2001   \n",
            "1  FMD_train_1                          $100 JCPenney Coupon Scam  08/10/2015   \n",
            "2  FMD_train_2  Did Ford Make Colin Kaepernick the Face of The...  09/10/2018   \n",
            "3  FMD_train_3  State Dept. Employee Candace Claiborne Arreste...  04/15/2017   \n",
            "4  FMD_train_4  No, Sean Connery's family did not become emoti...  12/03/2020   \n",
            "\n",
            "                                          sci_digest  \\\n",
            "0  [Is the web site Intifada.com partnered with A...   \n",
            "1                                                 []   \n",
            "2  [A joke posted to the political humor section ...   \n",
            "3  [Department of State employee Candace Claiborn...   \n",
            "4  [We recently saw the same misleading advertisi...   \n",
            "\n",
            "                                       justification      issues  \\\n",
            "0  Claim:  On-line bookseller Amazon.com is partn...    [profit]   \n",
            "1  FACT CHECK: Can Facebook users get a $100 JCPe...    [credit]   \n",
            "2  As social media users sorted through a flurry ...  [interest]   \n",
            "3  In mid-April 2017, multiple online sources rep...    [profit]   \n",
            "4  Known as a famous Hollywood actor and one of t...    [profit]   \n",
            "\n",
            "                                          image_data  label  \\\n",
            "0  [{'image_src': 'https://drive.google.com/uc?ex...    NEI   \n",
            "1  [{'image_src': 'https://drive.google.com/uc?ex...  False   \n",
            "2  [{'image_src': 'https://drive.google.com/uc?ex...  False   \n",
            "3  [{'image_src': 'https://drive.google.com/uc?ex...    NEI   \n",
            "4  [{'image_src': 'https://drive.google.com/uc?ex...  False   \n",
            "\n",
            "                                            evidence  \n",
            "0  Origins:  Like many other web retailers, Amazo...  \n",
            "1  However, those who looked closely at the embed...  \n",
            "2  As social media users sorted through a flurry ...  \n",
            "3  In mid-April 2017, multiple online sources rep...  \n",
            "4  Known as a famous Hollywood actor and one of t...  \n"
          ]
        }
      ],
      "source": [
        "import pandas as pd\n",
        "\n",
        "# Load dataset\n",
        "file_path = \"/content/drive/MyDrive/train.json\"\n",
        "df = pd.read_json(file_path, lines=True)\n",
        "\n",
        "# Display first few rows\n",
        "print(df.head())\n"
      ]
    },
    {
      "cell_type": "markdown",
      "metadata": {
        "id": "OB5hUaggJQAy"
      },
      "source": [
        "1.2 Handle Missing Values"
      ]
    },
    {
      "cell_type": "code",
      "execution_count": 5,
      "metadata": {
        "colab": {
          "base_uri": "https://localhost:8080/"
        },
        "id": "c_C8x1C9A5rn",
        "outputId": "f007deb1-c201-4e3c-b12f-d169d75d2878"
      },
      "outputs": [
        {
          "name": "stdout",
          "output_type": "stream",
          "text": [
            "ID               0\n",
            "claim            0\n",
            "posted           0\n",
            "sci_digest       0\n",
            "justification    0\n",
            "issues           0\n",
            "image_data       0\n",
            "label            0\n",
            "evidence         0\n",
            "dtype: int64\n"
          ]
        }
      ],
      "source": [
        "# Check for missing values\n",
        "print(df.isnull().sum())\n",
        "\n",
        "# Drop rows with missing values (if any)\n",
        "df = df.dropna()\n"
      ]
    },
    {
      "cell_type": "markdown",
      "metadata": {
        "id": "JJCTNv60JT_6"
      },
      "source": [
        "1.3 Normalize text"
      ]
    },
    {
      "cell_type": "code",
      "execution_count": 6,
      "metadata": {
        "colab": {
          "base_uri": "https://localhost:8080/"
        },
        "id": "_W9nb5uyA9ro",
        "outputId": "90d052d5-e49d-44ed-a02f-6e939d2a7957"
      },
      "outputs": [
        {
          "name": "stderr",
          "output_type": "stream",
          "text": [
            "[nltk_data] Downloading package stopwords to /root/nltk_data...\n",
            "[nltk_data]   Package stopwords is already up-to-date!\n"
          ]
        }
      ],
      "source": [
        "import re\n",
        "import nltk\n",
        "from nltk.corpus import stopwords\n",
        "\n",
        "nltk.download(\"stopwords\")\n",
        "stop_words = set(stopwords.words(\"english\"))\n",
        "\n",
        "def clean_text(text):\n",
        "    text = text.lower()  # Convert to lowercase\n",
        "    text = re.sub(r'\\W', ' ', text)  # Remove special characters\n",
        "    text = re.sub(r'\\s+', ' ', text).strip()  # Remove extra spaces\n",
        "    text = \" \".join([word for word in text.split() if word not in stop_words])  # Remove stopwords\n",
        "    return text\n",
        "\n",
        "df[\"clean_claim\"] = df[\"claim\"].apply(clean_text)\n"
      ]
    },
    {
      "cell_type": "markdown",
      "metadata": {
        "id": "77jH-wYfJYmO"
      },
      "source": [
        "1.4 tokenization and Lemmatization"
      ]
    },
    {
      "cell_type": "code",
      "execution_count": 7,
      "metadata": {
        "colab": {
          "base_uri": "https://localhost:8080/"
        },
        "id": "sShO2m2qBCbk",
        "outputId": "d57251f6-99bd-4d79-8776-ff478715a116"
      },
      "outputs": [
        {
          "name": "stderr",
          "output_type": "stream",
          "text": [
            "[nltk_data] Downloading package wordnet to /root/nltk_data...\n",
            "[nltk_data]   Package wordnet is already up-to-date!\n"
          ]
        }
      ],
      "source": [
        "from nltk.stem import WordNetLemmatizer\n",
        "\n",
        "nltk.download(\"wordnet\")\n",
        "lemmatizer = WordNetLemmatizer()\n",
        "\n",
        "def tokenize_lemmatize(text):\n",
        "    tokens = text.split()\n",
        "    tokens = [lemmatizer.lemmatize(word) for word in tokens]\n",
        "    return \" \".join(tokens)\n",
        "\n",
        "df[\"clean_claim\"] = df[\"clean_claim\"].apply(tokenize_lemmatize)\n"
      ]
    },
    {
      "cell_type": "code",
      "execution_count": 8,
      "metadata": {
        "colab": {
          "base_uri": "https://localhost:8080/"
        },
        "id": "SUhHcnbpUqg-",
        "outputId": "15b033c3-fe50-426a-c39b-1d21322bf751"
      },
      "outputs": [
        {
          "name": "stdout",
          "output_type": "stream",
          "text": [
            "label\n",
            "False    892\n",
            "True     717\n",
            "NEI      344\n",
            "Name: count, dtype: int64\n"
          ]
        }
      ],
      "source": [
        "print(df[\"label\"].value_counts())\n"
      ]
    },
    {
      "cell_type": "markdown",
      "metadata": {
        "id": "i_U4lnjwJgdK"
      },
      "source": [
        "1.5 Convert Labels into Numerical Format"
      ]
    },
    {
      "cell_type": "code",
      "execution_count": 9,
      "metadata": {
        "colab": {
          "base_uri": "https://localhost:8080/"
        },
        "id": "pA2Q8f52BIT5",
        "outputId": "3fffc0c7-f5cb-4068-97c2-f531a2e98d79"
      },
      "outputs": [
        {
          "name": "stdout",
          "output_type": "stream",
          "text": [
            "{'False': np.int64(0), 'NEI': np.int64(1), 'True': np.int64(2)}\n"
          ]
        }
      ],
      "source": [
        "from sklearn.preprocessing import LabelEncoder\n",
        "\n",
        "label_encoder = LabelEncoder()\n",
        "df[\"label_encoded\"] = label_encoder.fit_transform(df[\"label\"])  # Converts labels to numbers\n",
        "\n",
        "# Show label mappings\n",
        "print(dict(zip(label_encoder.classes_, label_encoder.transform(label_encoder.classes_))))\n"
      ]
    },
    {
      "cell_type": "markdown",
      "metadata": {
        "id": "A4-QUW3DJjoz"
      },
      "source": [
        "# Step 2: Feature Engineering"
      ]
    },
    {
      "cell_type": "markdown",
      "metadata": {
        "id": "7tEpuF6oJtNN"
      },
      "source": [
        "2.1 Convert Text into Numerical Features"
      ]
    },
    {
      "cell_type": "code",
      "execution_count": 10,
      "metadata": {
        "colab": {
          "base_uri": "https://localhost:8080/"
        },
        "id": "CTzPtC0tBknn",
        "outputId": "4ff02e0a-bd99-4fea-ef01-79c8993634a0"
      },
      "outputs": [
        {
          "name": "stdout",
          "output_type": "stream",
          "text": [
            "TF-IDF Feature Matrix Shape: (1953, 4659)\n"
          ]
        }
      ],
      "source": [
        "from sklearn.feature_extraction.text import TfidfVectorizer\n",
        "\n",
        "# Initialize TF-IDF Vectorizer\n",
        "tfidf_vectorizer = TfidfVectorizer(max_features=5000)  # Limit to top 5000 words\n",
        "\n",
        "# Fit and transform the claims\n",
        "X = tfidf_vectorizer.fit_transform(df[\"clean_claim\"])\n",
        "\n",
        "# Convert to dense array\n",
        "X = X.toarray()\n",
        "\n",
        "# Show shape of transformed data\n",
        "print(\"TF-IDF Feature Matrix Shape:\", X.shape)\n"
      ]
    },
    {
      "cell_type": "markdown",
      "metadata": {
        "id": "bdoVqMkoJskG"
      },
      "source": [
        "2.2 Split the Dataset into Training & Testing Sets"
      ]
    },
    {
      "cell_type": "code",
      "execution_count": 11,
      "metadata": {
        "colab": {
          "base_uri": "https://localhost:8080/"
        },
        "id": "K9Ne1O2cBnep",
        "outputId": "4a270429-0381-45ef-d097-fee9e3c1402e"
      },
      "outputs": [
        {
          "name": "stdout",
          "output_type": "stream",
          "text": [
            "Training Set Size: (1562, 4659)\n",
            "Testing Set Size: (391, 4659)\n"
          ]
        }
      ],
      "source": [
        "from sklearn.model_selection import train_test_split\n",
        "\n",
        "# Target labels\n",
        "y = df[\"label_encoded\"]\n",
        "\n",
        "# Split into training and testing sets (80-20 split)\n",
        "X_train, X_test, y_train, y_test = train_test_split(X, y, test_size=0.2, random_state=42)\n",
        "\n",
        "# Print dataset sizes\n",
        "print(\"Training Set Size:\", X_train.shape)\n",
        "print(\"Testing Set Size:\", X_test.shape)\n"
      ]
    },
    {
      "cell_type": "markdown",
      "metadata": {
        "id": "yejFOtU3J-a3"
      },
      "source": [
        "# Step 3: Model Selection and trainning"
      ]
    },
    {
      "cell_type": "markdown",
      "metadata": {
        "id": "1aPRuf5JKDj-"
      },
      "source": [
        "3.1 Train a Logistic Regression Model"
      ]
    },
    {
      "cell_type": "code",
      "execution_count": 12,
      "metadata": {
        "colab": {
          "base_uri": "https://localhost:8080/"
        },
        "id": "DgSbzn8RB5hk",
        "outputId": "ee3a7799-6d55-4978-8c63-bc87819e68a5"
      },
      "outputs": [
        {
          "name": "stdout",
          "output_type": "stream",
          "text": [
            "Logistic Regression Accuracy: 0.649616368286445\n",
            "\n",
            "Classification Report:\n",
            "               precision    recall  f1-score   support\n",
            "\n",
            "           0       0.60      0.92      0.73       177\n",
            "           1       1.00      0.06      0.11        68\n",
            "           2       0.74      0.60      0.66       146\n",
            "\n",
            "    accuracy                           0.65       391\n",
            "   macro avg       0.78      0.53      0.50       391\n",
            "weighted avg       0.72      0.65      0.60       391\n",
            "\n"
          ]
        }
      ],
      "source": [
        "from sklearn.linear_model import LogisticRegression\n",
        "from sklearn.metrics import accuracy_score, classification_report\n",
        "\n",
        "# Initialize and train the model\n",
        "model = LogisticRegression(max_iter=1000)\n",
        "model.fit(X_train, y_train)\n",
        "\n",
        "# Make predictions\n",
        "y_pred = model.predict(X_test)\n",
        "\n",
        "# Evaluate the model\n",
        "accuracy = accuracy_score(y_test, y_pred)\n",
        "print(\"Logistic Regression Accuracy:\", accuracy)\n",
        "print(\"\\nClassification Report:\\n\", classification_report(y_test, y_pred))\n"
      ]
    },
    {
      "cell_type": "markdown",
      "metadata": {
        "id": "5kS13jDnKIZG"
      },
      "source": [
        "3.2 Experiment with Other Models (RNN)"
      ]
    },
    {
      "cell_type": "markdown",
      "metadata": {
        "id": "m4Glt0asKT_H"
      },
      "source": [
        "3.2.1 Convert Text into Sequences"
      ]
    },
    {
      "cell_type": "code",
      "execution_count": 13,
      "metadata": {
        "colab": {
          "base_uri": "https://localhost:8080/"
        },
        "id": "fV4idjAkCOoF",
        "outputId": "125932d9-3ad6-4de6-e643-549d227e77c2"
      },
      "outputs": [
        {
          "name": "stdout",
          "output_type": "stream",
          "text": [
            "Training data shape: (1562, 100)\n",
            "Testing data shape: (391, 100)\n"
          ]
        }
      ],
      "source": [
        "import tensorflow as tf\n",
        "from tensorflow.keras.preprocessing.text import Tokenizer\n",
        "from tensorflow.keras.preprocessing.sequence import pad_sequences\n",
        "\n",
        "# Hyperparameters\n",
        "max_words = 5000  # Max number of words in vocabulary\n",
        "max_len = 100  # Max length of input sequence\n",
        "\n",
        "# Tokenize the text\n",
        "tokenizer = Tokenizer(num_words=max_words, oov_token=\"<OOV>\")\n",
        "tokenizer.fit_on_texts(df[\"clean_claim\"])\n",
        "\n",
        "# Convert text to sequences\n",
        "X_sequences = tokenizer.texts_to_sequences(df[\"clean_claim\"])\n",
        "\n",
        "# Pad sequences to ensure equal length\n",
        "X_padded = pad_sequences(X_sequences, maxlen=max_len, padding=\"post\")\n",
        "\n",
        "# Convert labels to numpy array\n",
        "y = df[\"label_encoded\"].values\n",
        "\n",
        "# Train-test split\n",
        "X_train, X_test, y_train, y_test = train_test_split(X_padded, y, test_size=0.2, random_state=42)\n",
        "\n",
        "print(\"Training data shape:\", X_train.shape)\n",
        "print(\"Testing data shape:\", X_test.shape)\n"
      ]
    },
    {
      "cell_type": "markdown",
      "metadata": {
        "id": "HjSnbFu6KXky"
      },
      "source": [
        "3.2.2 Define an RNN Model with LSTM"
      ]
    },
    {
      "cell_type": "code",
      "execution_count": 14,
      "metadata": {
        "colab": {
          "base_uri": "https://localhost:8080/",
          "height": 356
        },
        "id": "SGXcMrY2CVnf",
        "outputId": "bb7076e5-193f-4411-fd6d-5f83249b577b"
      },
      "outputs": [
        {
          "name": "stderr",
          "output_type": "stream",
          "text": [
            "/usr/local/lib/python3.11/dist-packages/keras/src/layers/core/embedding.py:90: UserWarning: Argument `input_length` is deprecated. Just remove it.\n",
            "  warnings.warn(\n"
          ]
        },
        {
          "data": {
            "text/html": [
              "<pre style=\"white-space:pre;overflow-x:auto;line-height:normal;font-family:Menlo,'DejaVu Sans Mono',consolas,'Courier New',monospace\"><span style=\"font-weight: bold\">Model: \"sequential\"</span>\n",
              "</pre>\n"
            ],
            "text/plain": [
              "\u001b[1mModel: \"sequential\"\u001b[0m\n"
            ]
          },
          "metadata": {},
          "output_type": "display_data"
        },
        {
          "data": {
            "text/html": [
              "<pre style=\"white-space:pre;overflow-x:auto;line-height:normal;font-family:Menlo,'DejaVu Sans Mono',consolas,'Courier New',monospace\">┏━━━━━━━━━━━━━━━━━━━━━━━━━━━━━━━━━━━━━━┳━━━━━━━━━━━━━━━━━━━━━━━━━━━━━┳━━━━━━━━━━━━━━━━━┓\n",
              "┃<span style=\"font-weight: bold\"> Layer (type)                         </span>┃<span style=\"font-weight: bold\"> Output Shape                </span>┃<span style=\"font-weight: bold\">         Param # </span>┃\n",
              "┡━━━━━━━━━━━━━━━━━━━━━━━━━━━━━━━━━━━━━━╇━━━━━━━━━━━━━━━━━━━━━━━━━━━━━╇━━━━━━━━━━━━━━━━━┩\n",
              "│ embedding (<span style=\"color: #0087ff; text-decoration-color: #0087ff\">Embedding</span>)                │ ?                           │     <span style=\"color: #00af00; text-decoration-color: #00af00\">0</span> (unbuilt) │\n",
              "├──────────────────────────────────────┼─────────────────────────────┼─────────────────┤\n",
              "│ lstm (<span style=\"color: #0087ff; text-decoration-color: #0087ff\">LSTM</span>)                          │ ?                           │     <span style=\"color: #00af00; text-decoration-color: #00af00\">0</span> (unbuilt) │\n",
              "├──────────────────────────────────────┼─────────────────────────────┼─────────────────┤\n",
              "│ lstm_1 (<span style=\"color: #0087ff; text-decoration-color: #0087ff\">LSTM</span>)                        │ ?                           │     <span style=\"color: #00af00; text-decoration-color: #00af00\">0</span> (unbuilt) │\n",
              "├──────────────────────────────────────┼─────────────────────────────┼─────────────────┤\n",
              "│ dropout (<span style=\"color: #0087ff; text-decoration-color: #0087ff\">Dropout</span>)                    │ ?                           │               <span style=\"color: #00af00; text-decoration-color: #00af00\">0</span> │\n",
              "├──────────────────────────────────────┼─────────────────────────────┼─────────────────┤\n",
              "│ dense (<span style=\"color: #0087ff; text-decoration-color: #0087ff\">Dense</span>)                        │ ?                           │     <span style=\"color: #00af00; text-decoration-color: #00af00\">0</span> (unbuilt) │\n",
              "├──────────────────────────────────────┼─────────────────────────────┼─────────────────┤\n",
              "│ dense_1 (<span style=\"color: #0087ff; text-decoration-color: #0087ff\">Dense</span>)                      │ ?                           │     <span style=\"color: #00af00; text-decoration-color: #00af00\">0</span> (unbuilt) │\n",
              "└──────────────────────────────────────┴─────────────────────────────┴─────────────────┘\n",
              "</pre>\n"
            ],
            "text/plain": [
              "┏━━━━━━━━━━━━━━━━━━━━━━━━━━━━━━━━━━━━━━┳━━━━━━━━━━━━━━━━━━━━━━━━━━━━━┳━━━━━━━━━━━━━━━━━┓\n",
              "┃\u001b[1m \u001b[0m\u001b[1mLayer (type)                        \u001b[0m\u001b[1m \u001b[0m┃\u001b[1m \u001b[0m\u001b[1mOutput Shape               \u001b[0m\u001b[1m \u001b[0m┃\u001b[1m \u001b[0m\u001b[1m        Param #\u001b[0m\u001b[1m \u001b[0m┃\n",
              "┡━━━━━━━━━━━━━━━━━━━━━━━━━━━━━━━━━━━━━━╇━━━━━━━━━━━━━━━━━━━━━━━━━━━━━╇━━━━━━━━━━━━━━━━━┩\n",
              "│ embedding (\u001b[38;5;33mEmbedding\u001b[0m)                │ ?                           │     \u001b[38;5;34m0\u001b[0m (unbuilt) │\n",
              "├──────────────────────────────────────┼─────────────────────────────┼─────────────────┤\n",
              "│ lstm (\u001b[38;5;33mLSTM\u001b[0m)                          │ ?                           │     \u001b[38;5;34m0\u001b[0m (unbuilt) │\n",
              "├──────────────────────────────────────┼─────────────────────────────┼─────────────────┤\n",
              "│ lstm_1 (\u001b[38;5;33mLSTM\u001b[0m)                        │ ?                           │     \u001b[38;5;34m0\u001b[0m (unbuilt) │\n",
              "├──────────────────────────────────────┼─────────────────────────────┼─────────────────┤\n",
              "│ dropout (\u001b[38;5;33mDropout\u001b[0m)                    │ ?                           │               \u001b[38;5;34m0\u001b[0m │\n",
              "├──────────────────────────────────────┼─────────────────────────────┼─────────────────┤\n",
              "│ dense (\u001b[38;5;33mDense\u001b[0m)                        │ ?                           │     \u001b[38;5;34m0\u001b[0m (unbuilt) │\n",
              "├──────────────────────────────────────┼─────────────────────────────┼─────────────────┤\n",
              "│ dense_1 (\u001b[38;5;33mDense\u001b[0m)                      │ ?                           │     \u001b[38;5;34m0\u001b[0m (unbuilt) │\n",
              "└──────────────────────────────────────┴─────────────────────────────┴─────────────────┘\n"
            ]
          },
          "metadata": {},
          "output_type": "display_data"
        },
        {
          "data": {
            "text/html": [
              "<pre style=\"white-space:pre;overflow-x:auto;line-height:normal;font-family:Menlo,'DejaVu Sans Mono',consolas,'Courier New',monospace\"><span style=\"font-weight: bold\"> Total params: </span><span style=\"color: #00af00; text-decoration-color: #00af00\">0</span> (0.00 B)\n",
              "</pre>\n"
            ],
            "text/plain": [
              "\u001b[1m Total params: \u001b[0m\u001b[38;5;34m0\u001b[0m (0.00 B)\n"
            ]
          },
          "metadata": {},
          "output_type": "display_data"
        },
        {
          "data": {
            "text/html": [
              "<pre style=\"white-space:pre;overflow-x:auto;line-height:normal;font-family:Menlo,'DejaVu Sans Mono',consolas,'Courier New',monospace\"><span style=\"font-weight: bold\"> Trainable params: </span><span style=\"color: #00af00; text-decoration-color: #00af00\">0</span> (0.00 B)\n",
              "</pre>\n"
            ],
            "text/plain": [
              "\u001b[1m Trainable params: \u001b[0m\u001b[38;5;34m0\u001b[0m (0.00 B)\n"
            ]
          },
          "metadata": {},
          "output_type": "display_data"
        },
        {
          "data": {
            "text/html": [
              "<pre style=\"white-space:pre;overflow-x:auto;line-height:normal;font-family:Menlo,'DejaVu Sans Mono',consolas,'Courier New',monospace\"><span style=\"font-weight: bold\"> Non-trainable params: </span><span style=\"color: #00af00; text-decoration-color: #00af00\">0</span> (0.00 B)\n",
              "</pre>\n"
            ],
            "text/plain": [
              "\u001b[1m Non-trainable params: \u001b[0m\u001b[38;5;34m0\u001b[0m (0.00 B)\n"
            ]
          },
          "metadata": {},
          "output_type": "display_data"
        }
      ],
      "source": [
        "from tensorflow.keras.models import Sequential\n",
        "from tensorflow.keras.layers import Embedding, LSTM, Dense, Dropout\n",
        "\n",
        "# Define the RNN model\n",
        "model = Sequential([\n",
        "    Embedding(input_dim=max_words, output_dim=128, input_length=max_len),\n",
        "    LSTM(64, return_sequences=True),\n",
        "    LSTM(32),\n",
        "    Dropout(0.5),\n",
        "    Dense(32, activation=\"relu\"),\n",
        "    Dense(3, activation=\"softmax\")  # 3 output classes (True, False, NEI)\n",
        "])\n",
        "\n",
        "# Compile the model\n",
        "model.compile(loss=\"sparse_categorical_crossentropy\", optimizer=\"adam\", metrics=[\"accuracy\"])\n",
        "\n",
        "# Print model summary\n",
        "model.summary()\n"
      ]
    },
    {
      "cell_type": "markdown",
      "metadata": {
        "id": "Jq1QOJLEKj11"
      },
      "source": [
        "3.2.3 Train the Model"
      ]
    },
    {
      "cell_type": "code",
      "execution_count": 15,
      "metadata": {
        "colab": {
          "base_uri": "https://localhost:8080/"
        },
        "id": "qtPgJoVYCZVN",
        "outputId": "58833e4b-5096-484b-ddf8-8fddf14d0dfa"
      },
      "outputs": [
        {
          "name": "stdout",
          "output_type": "stream",
          "text": [
            "Epoch 1/10\n",
            "\u001b[1m49/49\u001b[0m \u001b[32m━━━━━━━━━━━━━━━━━━━━\u001b[0m\u001b[37m\u001b[0m \u001b[1m14s\u001b[0m 130ms/step - accuracy: 0.4336 - loss: 1.0648 - val_accuracy: 0.4527 - val_loss: 1.0383\n",
            "Epoch 2/10\n",
            "\u001b[1m49/49\u001b[0m \u001b[32m━━━━━━━━━━━━━━━━━━━━\u001b[0m\u001b[37m\u001b[0m \u001b[1m10s\u001b[0m 135ms/step - accuracy: 0.4371 - loss: 1.0307 - val_accuracy: 0.4527 - val_loss: 1.0331\n",
            "Epoch 3/10\n",
            "\u001b[1m49/49\u001b[0m \u001b[32m━━━━━━━━━━━━━━━━━━━━\u001b[0m\u001b[37m\u001b[0m \u001b[1m6s\u001b[0m 118ms/step - accuracy: 0.4451 - loss: 1.0381 - val_accuracy: 0.4527 - val_loss: 1.0379\n",
            "Epoch 4/10\n",
            "\u001b[1m49/49\u001b[0m \u001b[32m━━━━━━━━━━━━━━━━━━━━\u001b[0m\u001b[37m\u001b[0m \u001b[1m11s\u001b[0m 141ms/step - accuracy: 0.4369 - loss: 1.0489 - val_accuracy: 0.4527 - val_loss: 1.0310\n",
            "Epoch 5/10\n",
            "\u001b[1m49/49\u001b[0m \u001b[32m━━━━━━━━━━━━━━━━━━━━\u001b[0m\u001b[37m\u001b[0m \u001b[1m9s\u001b[0m 123ms/step - accuracy: 0.4762 - loss: 1.0275 - val_accuracy: 0.4527 - val_loss: 1.0417\n",
            "Epoch 6/10\n",
            "\u001b[1m49/49\u001b[0m \u001b[32m━━━━━━━━━━━━━━━━━━━━\u001b[0m\u001b[37m\u001b[0m \u001b[1m6s\u001b[0m 124ms/step - accuracy: 0.4279 - loss: 1.0510 - val_accuracy: 0.4527 - val_loss: 1.0312\n",
            "Epoch 7/10\n",
            "\u001b[1m49/49\u001b[0m \u001b[32m━━━━━━━━━━━━━━━━━━━━\u001b[0m\u001b[37m\u001b[0m \u001b[1m10s\u001b[0m 114ms/step - accuracy: 0.4671 - loss: 1.0332 - val_accuracy: 0.4527 - val_loss: 1.0309\n",
            "Epoch 8/10\n",
            "\u001b[1m49/49\u001b[0m \u001b[32m━━━━━━━━━━━━━━━━━━━━\u001b[0m\u001b[37m\u001b[0m \u001b[1m7s\u001b[0m 149ms/step - accuracy: 0.4503 - loss: 1.0283 - val_accuracy: 0.4527 - val_loss: 1.0375\n",
            "Epoch 9/10\n",
            "\u001b[1m49/49\u001b[0m \u001b[32m━━━━━━━━━━━━━━━━━━━━\u001b[0m\u001b[37m\u001b[0m \u001b[1m6s\u001b[0m 120ms/step - accuracy: 0.4497 - loss: 1.0414 - val_accuracy: 0.4527 - val_loss: 1.0315\n",
            "Epoch 10/10\n",
            "\u001b[1m49/49\u001b[0m \u001b[32m━━━━━━━━━━━━━━━━━━━━\u001b[0m\u001b[37m\u001b[0m \u001b[1m11s\u001b[0m 132ms/step - accuracy: 0.4399 - loss: 1.0513 - val_accuracy: 0.4527 - val_loss: 1.0322\n"
          ]
        }
      ],
      "source": [
        "# Train the model\n",
        "history = model.fit(X_train, y_train, epochs=10, batch_size=32, validation_data=(X_test, y_test))\n"
      ]
    },
    {
      "cell_type": "code",
      "execution_count": 16,
      "metadata": {
        "colab": {
          "base_uri": "https://localhost:8080/",
          "height": 430
        },
        "id": "YFvnQX_-WbBT",
        "outputId": "8735eb3b-6df9-428d-c16a-64fb77ebac0b"
      },
      "outputs": [
        {
          "data": {
            "image/png": "[encoded data removed]",
            "text/plain": [
              "<Figure size 640x480 with 1 Axes>"
            ]
          },
          "metadata": {},
          "output_type": "display_data"
        }
      ],
      "source": [
        "import matplotlib.pyplot as plt\n",
        "\n",
        "plt.plot(history.history[\"accuracy\"], label=\"Train Accuracy\")\n",
        "plt.plot(history.history[\"val_accuracy\"], label=\"Val Accuracy\")\n",
        "plt.legend()\n",
        "plt.show()\n"
      ]
    },
    {
      "cell_type": "markdown",
      "metadata": {
        "id": "njICfBR5KsgA"
      },
      "source": [
        "3.2.4  Evaluate the Model"
      ]
    },
    {
      "cell_type": "code",
      "execution_count": 17,
      "metadata": {
        "colab": {
          "base_uri": "https://localhost:8080/"
        },
        "id": "9MvFVwI4CdNi",
        "outputId": "0919d758-353e-4b76-9b01-592c66a5fe2a"
      },
      "outputs": [
        {
          "name": "stdout",
          "output_type": "stream",
          "text": [
            "\u001b[1m13/13\u001b[0m \u001b[32m━━━━━━━━━━━━━━━━━━━━\u001b[0m\u001b[37m\u001b[0m \u001b[1m0s\u001b[0m 31ms/step - accuracy: 0.4235 - loss: 1.0596\n",
            "Test Accuracy: 0.4526854157447815\n",
            "\u001b[1m13/13\u001b[0m \u001b[32m━━━━━━━━━━━━━━━━━━━━\u001b[0m\u001b[37m\u001b[0m \u001b[1m1s\u001b[0m 64ms/step\n",
            "\n",
            "Classification Report:\n",
            "               precision    recall  f1-score   support\n",
            "\n",
            "           0       0.45      1.00      0.62       177\n",
            "           1       0.00      0.00      0.00        68\n",
            "           2       0.00      0.00      0.00       146\n",
            "\n",
            "    accuracy                           0.45       391\n",
            "   macro avg       0.15      0.33      0.21       391\n",
            "weighted avg       0.20      0.45      0.28       391\n",
            "\n"
          ]
        },
        {
          "name": "stderr",
          "output_type": "stream",
          "text": [
            "/usr/local/lib/python3.11/dist-packages/sklearn/metrics/_classification.py:1565: UndefinedMetricWarning: Precision is ill-defined and being set to 0.0 in labels with no predicted samples. Use `zero_division` parameter to control this behavior.\n",
            "  _warn_prf(average, modifier, f\"{metric.capitalize()} is\", len(result))\n",
            "/usr/local/lib/python3.11/dist-packages/sklearn/metrics/_classification.py:1565: UndefinedMetricWarning: Precision is ill-defined and being set to 0.0 in labels with no predicted samples. Use `zero_division` parameter to control this behavior.\n",
            "  _warn_prf(average, modifier, f\"{metric.capitalize()} is\", len(result))\n",
            "/usr/local/lib/python3.11/dist-packages/sklearn/metrics/_classification.py:1565: UndefinedMetricWarning: Precision is ill-defined and being set to 0.0 in labels with no predicted samples. Use `zero_division` parameter to control this behavior.\n",
            "  _warn_prf(average, modifier, f\"{metric.capitalize()} is\", len(result))\n"
          ]
        }
      ],
      "source": [
        "# Evaluate on test data\n",
        "test_loss, test_acc = model.evaluate(X_test, y_test)\n",
        "print(\"Test Accuracy:\", test_acc)\n",
        "\n",
        "# Make predictions\n",
        "y_pred = model.predict(X_test)\n",
        "y_pred_classes = y_pred.argmax(axis=1)\n",
        "\n",
        "# Classification report\n",
        "from sklearn.metrics import classification_report\n",
        "print(\"\\nClassification Report:\\n\", classification_report(y_test, y_pred_classes))\n"
      ]
    },
    {
      "cell_type": "markdown",
      "metadata": {
        "id": "LHvZH98M6m8U"
      },
      "source": [
        "# Step 4: Steps to Implement Transformer (BERT) Model"
      ]
    },
    {
      "cell_type": "markdown",
      "metadata": {
        "id": "NXczR1dvXO7B"
      },
      "source": [
        "1. Install & Import Dependencies"
      ]
    },
    {
      "cell_type": "code",
      "execution_count": 18,
      "metadata": {
        "id": "nZ2rdhLbYV7H"
      },
      "outputs": [],
      "source": [
        "# Loading Libraries\n",
        "import tensorflow as tf\n",
        "from transformers import BertTokenizer, TFBertForSequenceClassification\n",
        "from tensorflow.keras.optimizers.schedules import PolynomialDecay\n",
        "from tensorflow.keras.optimizers import Adam\n",
        "from sklearn.model_selection import train_test_split\n",
        "import numpy as np"
      ]
    },
    {
      "cell_type": "markdown",
      "metadata": {
        "id": "OUukccukYiNF"
      },
      "source": [
        "2. Load a Pretrained & Tokenize your Data"
      ]
    },
    {
      "cell_type": "code",
      "execution_count": 19,
      "metadata": {
        "colab": {
          "base_uri": "https://localhost:8080/"
        },
        "id": "DxvK-FduYgDV",
        "outputId": "390c90bb-cdf3-4908-e3ad-f18dd5ebe755"
      },
      "outputs": [
        {
          "name": "stderr",
          "output_type": "stream",
          "text": [
            "/usr/local/lib/python3.11/dist-packages/huggingface_hub/utils/_auth.py:94: UserWarning: \n",
            "The secret `HF_TOKEN` does not exist in your Colab secrets.\n",
            "To authenticate with the Hugging Face Hub, create a token in your settings tab (https://huggingface.co/settings/tokens), set it as secret in your Google Colab and restart your session.\n",
            "You will be able to reuse this secret in all of your notebooks.\n",
            "Please note that authentication is recommended but still optional to access public models or datasets.\n",
            "  warnings.warn(\n"
          ]
        }
      ],
      "source": [
        "tokenizer = BertTokenizer.from_pretrained(\"bert-base-uncased\")\n"
      ]
    },
    {
      "cell_type": "code",
      "execution_count": 20,
      "metadata": {
        "id": "AE5m0ZseYufj"
      },
      "outputs": [],
      "source": [
        "# Step 2: Tokenize Dataset\n",
        "def tokenize_texts(texts, max_length=100):\n",
        "    return tokenizer(\n",
        "        texts.tolist(), padding=True, truncation=True, max_length=max_length, return_tensors=\"tf\"\n",
        "    )\n",
        "\n",
        "X_tokenized = tokenize_texts(df[\"clean_claim\"])\n",
        "y = df[\"label_encoded\"].values\n"
      ]
    },
    {
      "cell_type": "code",
      "execution_count": 21,
      "metadata": {
        "id": "HJjxXk0pZie5"
      },
      "outputs": [],
      "source": [
        "# Step 3: Train-Test Split\n",
        "X_input_ids = np.array(X_tokenized[\"input_ids\"])  # Convert Tensor to NumPy array\n",
        "y = np.array(y)  # Ensure labels are also a NumPy array\n",
        "\n",
        "X_train, X_test, y_train, y_test = train_test_split(\n",
        "    X_input_ids, y, test_size=0.2, random_state=42, stratify=y\n",
        ")\n"
      ]
    },
    {
      "cell_type": "markdown",
      "metadata": {
        "id": "qrulUdujZ_8B"
      },
      "source": [
        "3.Fine-Tune BERT on dataset"
      ]
    },
    {
      "cell_type": "code",
      "execution_count": 22,
      "metadata": {
        "id": "NTp0XbwwaGz_"
      },
      "outputs": [],
      "source": [
        "# Step 4: Convert to TensorFlow Datasets\n",
        "dataset_train = tf.data.Dataset.from_tensor_slices((X_train, y_train)).batch(16)\n",
        "dataset_test = tf.data.Dataset.from_tensor_slices((X_test, y_test)).batch(16)\n"
      ]
    },
    {
      "cell_type": "markdown",
      "metadata": {
        "id": "X_7SioIGaaji"
      },
      "source": [
        "4. Train and Evaluate"
      ]
    },
    {
      "cell_type": "code",
      "execution_count": 38,
      "metadata": {
        "colab": {
          "base_uri": "https://localhost:8080/"
        },
        "id": "1xNHjlDCagwU",
        "outputId": "ca83f4bd-d986-4f48-88b4-daf05c735324"
      },
      "outputs": [
        {
          "name": "stderr",
          "output_type": "stream",
          "text": [
            "All PyTorch model weights were used when initializing TFBertForSequenceClassification.\n",
            "\n",
            "Some weights or buffers of the TF 2.0 model TFBertForSequenceClassification were not initialized from the PyTorch model and are newly initialized: ['classifier.weight', 'classifier.bias']\n",
            "You should probably TRAIN this model on a down-stream task to be able to use it for predictions and inference.\n"
          ]
        }
      ],
      "source": [
        "# Step 5: Load Pretrained BERT Model\n",
        "model = TFBertForSequenceClassification.from_pretrained(\"bert-base-uncased\", num_labels=3)"
      ]
    },
    {
      "cell_type": "code",
      "execution_count": 41,
      "metadata": {
        "colab": {
          "base_uri": "https://localhost:8080/"
        },
        "id": "9011vbIDkMk0",
        "outputId": "2da47e85-c589-4720-9fdc-1ee6d0d138f7"
      },
      "outputs": [
        {
          "name": "stdout",
          "output_type": "stream",
          "text": [
            "2.19.0\n"
          ]
        }
      ],
      "source": [
        "# Checking version of tensorflow\n",
        "import tensorflow as tf\n",
        "print(tf.__version__)\n"
      ]
    },
    {
      "cell_type": "code",
      "execution_count": 40,
      "metadata": {
        "colab": {
          "base_uri": "https://localhost:8080/"
        },
        "id": "vlypSyEHkQeX",
        "outputId": "07c3760d-e770-4ae9-e7cf-7696bdf053c1"
      },
      "outputs": [
        {
          "name": "stdout",
          "output_type": "stream",
          "text": [
            "Model: \"tf_bert_for_sequence_classification_5\"\n",
            "_________________________________________________________________\n",
            " Layer (type)                Output Shape              Param #   \n",
            "=================================================================\n",
            " bert (TFBertMainLayer)      multiple                  109482240 \n",
            "                                                                 \n",
            " dropout_227 (Dropout)       multiple                  0 (unused)\n",
            "                                                                 \n",
            " classifier (Dense)          multiple                  2307      \n",
            "                                                                 \n",
            "=================================================================\n",
            "Total params: 109484547 (417.65 MB)\n",
            "Trainable params: 109484547 (417.65 MB)\n",
            "Non-trainable params: 0 (0.00 Byte)\n",
            "_________________________________________________________________\n",
            "None\n"
          ]
        }
      ],
      "source": [
        "# Model summary\n",
        "print(model.summary())\n"
      ]
    },
    {
      "cell_type": "code",
      "execution_count": 42,
      "metadata": {
        "colab": {
          "base_uri": "https://localhost:8080/"
        },
        "id": "xkCz1rnCiK82",
        "outputId": "89cc4d12-af32-4fe2-d903-a379b1ed6d9c"
      },
      "outputs": [
        {
          "name": "stdout",
          "output_type": "stream",
          "text": [
            "<_BatchDataset element_spec=(TensorSpec(shape=(None, 43), dtype=tf.int32, name=None), TensorSpec(shape=(None,), dtype=tf.int64, name=None))>\n"
          ]
        }
      ],
      "source": [
        "#checking the dataset\n",
        "print(dataset_train)\n"
      ]
    },
    {
      "cell_type": "code",
      "execution_count": 27,
      "metadata": {
        "id": "89C62SXOkV2t"
      },
      "outputs": [],
      "source": [
        "dataset_train = tf.data.Dataset.from_tensor_slices((X_train, y_train)).batch(16)\n",
        "dataset_test = tf.data.Dataset.from_tensor_slices((X_test, y_test)).batch(16)\n"
      ]
    },
    {
      "cell_type": "markdown",
      "metadata": {
        "id": "DQSxGoAlsAp4"
      },
      "source": [
        "# Combining and training BERT Model"
      ]
    },
    {
      "cell_type": "code",
      "execution_count": 28,
      "metadata": {
        "colab": {
          "base_uri": "https://localhost:8080/"
        },
        "id": "ZQzzAMK7m302",
        "outputId": "9032fd13-ad20-4b74-a826-33705a08f37f"
      },
      "outputs": [
        {
          "name": "stdout",
          "output_type": "stream",
          "text": [
            "Epoch 1/10\n"
          ]
        },
        {
          "name": "stderr",
          "output_type": "stream",
          "text": [
            "/usr/local/lib/python3.11/dist-packages/keras/src/layers/core/dense.py:87: UserWarning: Do not pass an `input_shape`/`input_dim` argument to a layer. When using Sequential models, prefer using an `Input(shape)` object as the first layer in the model instead.\n",
            "  super().__init__(activity_regularizer=activity_regularizer, **kwargs)\n"
          ]
        },
        {
          "name": "stdout",
          "output_type": "stream",
          "text": [
            "\u001b[1m47/49\u001b[0m \u001b[32m━━━━━━━━━━━━━━━━━━━\u001b[0m\u001b[37m━\u001b[0m \u001b[1m0s\u001b[0m 3ms/step - accuracy: 0.3771 - loss: 1902.9816"
          ]
        },
        {
          "name": "stderr",
          "output_type": "stream",
          "text": [
            "WARNING:absl:You are saving your model as an HDF5 file via `model.save()` or `keras.saving.save_model(model)`. This file format is considered legacy. We recommend using instead the native Keras format, e.g. `model.save('my_model.keras')` or `keras.saving.save_model(model, 'my_model.keras')`. \n"
          ]
        },
        {
          "name": "stdout",
          "output_type": "stream",
          "text": [
            "\b\b\b\b\b\b\b\b\b\b\b\b\b\b\b\b\b\b\b\b\b\b\b\b\b\b\b\b\b\b\b\b\b\b\b\b\b\b\b\b\b\b\b\b\b\b\b\b\b\b\b\b\b\b\b\b\b\b\b\b\b\b\b\b\b\b\b\b\b\b\b\b\b\b\b\r\u001b[1m49/49\u001b[0m \u001b[32m━━━━━━━━━━━━━━━━━━━━\u001b[0m\u001b[37m\u001b[0m \u001b[1m3s\u001b[0m 12ms/step - accuracy: 0.3779 - loss: 1881.1903 - val_accuracy: 0.4731 - val_loss: 263.4154\n",
            "Epoch 2/10\n",
            "\u001b[1m49/49\u001b[0m \u001b[32m━━━━━━━━━━━━━━━━━━━━\u001b[0m\u001b[37m\u001b[0m \u001b[1m0s\u001b[0m 5ms/step - accuracy: 0.3932 - loss: 866.9243 - val_accuracy: 0.4118 - val_loss: 120.3406\n",
            "Epoch 3/10\n",
            "\u001b[1m49/49\u001b[0m \u001b[32m━━━━━━━━━━━━━━━━━━━━\u001b[0m\u001b[37m\u001b[0m \u001b[1m0s\u001b[0m 6ms/step - accuracy: 0.3907 - loss: 460.2104 - val_accuracy: 0.4194 - val_loss: 55.5287\n",
            "Epoch 4/10\n",
            "\u001b[1m49/49\u001b[0m \u001b[32m━━━━━━━━━━━━━━━━━━━━\u001b[0m\u001b[37m\u001b[0m \u001b[1m1s\u001b[0m 5ms/step - accuracy: 0.4241 - loss: 267.2705 - val_accuracy: 0.4348 - val_loss: 19.7399\n",
            "Epoch 5/10\n",
            "\u001b[1m49/49\u001b[0m \u001b[32m━━━━━━━━━━━━━━━━━━━━\u001b[0m\u001b[37m\u001b[0m \u001b[1m0s\u001b[0m 6ms/step - accuracy: 0.4034 - loss: 139.9650 - val_accuracy: 0.4399 - val_loss: 4.6047\n",
            "Epoch 6/10\n",
            "\u001b[1m49/49\u001b[0m \u001b[32m━━━━━━━━━━━━━━━━━━━━\u001b[0m\u001b[37m\u001b[0m \u001b[1m1s\u001b[0m 5ms/step - accuracy: 0.4005 - loss: 67.2412 - val_accuracy: 0.3146 - val_loss: 2.9037\n",
            "Epoch 7/10\n",
            "\u001b[1m49/49\u001b[0m \u001b[32m━━━━━━━━━━━━━━━━━━━━\u001b[0m\u001b[37m\u001b[0m \u001b[1m0s\u001b[0m 5ms/step - accuracy: 0.3865 - loss: 45.5284 - val_accuracy: 0.3811 - val_loss: 2.3581\n",
            "Epoch 8/10\n",
            "\u001b[1m49/49\u001b[0m \u001b[32m━━━━━━━━━━━━━━━━━━━━\u001b[0m\u001b[37m\u001b[0m \u001b[1m0s\u001b[0m 5ms/step - accuracy: 0.4021 - loss: 26.0135 - val_accuracy: 0.4297 - val_loss: 2.2974\n",
            "Epoch 9/10\n",
            "\u001b[1m49/49\u001b[0m \u001b[32m━━━━━━━━━━━━━━━━━━━━\u001b[0m\u001b[37m\u001b[0m \u001b[1m0s\u001b[0m 5ms/step - accuracy: 0.4390 - loss: 29.9416 - val_accuracy: 0.4552 - val_loss: 2.1923\n",
            "Epoch 10/10\n",
            "\u001b[1m49/49\u001b[0m \u001b[32m━━━━━━━━━━━━━━━━━━━━\u001b[0m\u001b[37m\u001b[0m \u001b[1m0s\u001b[0m 5ms/step - accuracy: 0.4532 - loss: 16.3533 - val_accuracy: 0.4373 - val_loss: 2.2206\n",
            "\u001b[1m13/13\u001b[0m \u001b[32m━━━━━━━━━━━━━━━━━━━━\u001b[0m\u001b[37m\u001b[0m \u001b[1m0s\u001b[0m 5ms/step - accuracy: 0.4526 - loss: 2.2175 \n",
            "Test Accuracy: 0.4373\n",
            "\u001b[1m13/13\u001b[0m \u001b[32m━━━━━━━━━━━━━━━━━━━━\u001b[0m\u001b[37m\u001b[0m \u001b[1m0s\u001b[0m 7ms/step\n",
            "\n",
            "Classification Report:\n",
            "               precision    recall  f1-score   support\n",
            "\n",
            "           0       0.46      0.92      0.61       179\n",
            "           1       0.19      0.09      0.12        69\n",
            "           2       0.00      0.00      0.00       143\n",
            "\n",
            "    accuracy                           0.44       391\n",
            "   macro avg       0.22      0.34      0.24       391\n",
            "weighted avg       0.24      0.44      0.30       391\n",
            "\n"
          ]
        },
        {
          "name": "stderr",
          "output_type": "stream",
          "text": [
            "/usr/local/lib/python3.11/dist-packages/sklearn/metrics/_classification.py:1565: UndefinedMetricWarning: Precision is ill-defined and being set to 0.0 in labels with no predicted samples. Use `zero_division` parameter to control this behavior.\n",
            "  _warn_prf(average, modifier, f\"{metric.capitalize()} is\", len(result))\n",
            "/usr/local/lib/python3.11/dist-packages/sklearn/metrics/_classification.py:1565: UndefinedMetricWarning: Precision is ill-defined and being set to 0.0 in labels with no predicted samples. Use `zero_division` parameter to control this behavior.\n",
            "  _warn_prf(average, modifier, f\"{metric.capitalize()} is\", len(result))\n",
            "/usr/local/lib/python3.11/dist-packages/sklearn/metrics/_classification.py:1565: UndefinedMetricWarning: Precision is ill-defined and being set to 0.0 in labels with no predicted samples. Use `zero_division` parameter to control this behavior.\n",
            "  _warn_prf(average, modifier, f\"{metric.capitalize()} is\", len(result))\n"
          ]
        }
      ],
      "source": [
        "import tensorflow as tf\n",
        "from transformers import BertTokenizer\n",
        "from tensorflow.keras.models import Sequential\n",
        "from tensorflow.keras.layers import Dense, Dropout\n",
        "from tensorflow.keras.optimizers import Adam\n",
        "from tensorflow.keras.callbacks import ModelCheckpoint, TensorBoard\n",
        "from tensorflow.keras import regularizers\n",
        "from sklearn.model_selection import train_test_split\n",
        "import numpy as np\n",
        "\n",
        "# Step 1: Load BERT Tokenizer\n",
        "tokenizer = BertTokenizer.from_pretrained(\"bert-base-uncased\")\n",
        "\n",
        "# Step 2: Tokenize Dataset\n",
        "def tokenize_texts(texts, max_length=100):\n",
        "    tokenized = tokenizer(\n",
        "        texts.tolist(),\n",
        "        padding=\"max_length\",\n",
        "        truncation=True,\n",
        "        max_length=max_length,\n",
        "        return_tensors=\"tf\"\n",
        "    )\n",
        "    return tokenized[\"input_ids\"], tokenized[\"attention_mask\"]\n",
        "\n",
        "X_input_ids, X_attention_mask = tokenize_texts(df[\"clean_claim\"])\n",
        "y = tf.convert_to_tensor(df[\"label_encoded\"].values, dtype=tf.int32)\n",
        "\n",
        "# Step 3: Train-Test Split\n",
        "X_train_ids, X_test_ids, y_train, y_test = train_test_split(\n",
        "    X_input_ids.numpy(),\n",
        "    y.numpy(),\n",
        "    test_size=0.2,\n",
        "    random_state=42,\n",
        "    stratify=y.numpy()\n",
        ")\n",
        "\n",
        "# Step 4: Create Keras Sequential Model - CORRECTED\n",
        "model = Sequential([\n",
        "    Dense(128, activation='relu', kernel_regularizer=regularizers.l2(0.01), input_shape=(100,)),\n",
        "    Dropout(0.5),\n",
        "    Dense(64, activation='relu', kernel_regularizer=regularizers.l2(0.01)),\n",
        "    Dropout(0.5),\n",
        "    Dense(3, activation='softmax')\n",
        "])\n",
        "\n",
        "# Step 5: Compile Model\n",
        "model.compile(\n",
        "    optimizer=Adam(learning_rate=0.001),\n",
        "    loss='sparse_categorical_crossentropy',\n",
        "    metrics=['accuracy']\n",
        ")\n",
        "\n",
        "# Step 6: Callbacks\n",
        "callbacks = [\n",
        "    ModelCheckpoint('best_model.h5', monitor='val_accuracy', save_best_only=True),\n",
        "    TensorBoard(log_dir='./logs')\n",
        "]\n",
        "\n",
        "# Step 7: Train Model\n",
        "history = model.fit(\n",
        "    X_train_ids,\n",
        "    y_train,\n",
        "    validation_data=(X_test_ids, y_test),\n",
        "    epochs=10,\n",
        "    batch_size=32,\n",
        "    callbacks=callbacks\n",
        ")\n",
        "\n",
        "# Step 8-9: Evaluation and Prediction (same as before)\n",
        "test_loss, test_acc = model.evaluate(X_test_ids, y_test)\n",
        "print(f\"Test Accuracy: {test_acc:.4f}\")\n",
        "\n",
        "y_pred = model.predict(X_test_ids)\n",
        "y_pred_classes = np.argmax(y_pred, axis=1)\n",
        "\n",
        "from sklearn.metrics import classification_report\n",
        "print(\"\\nClassification Report:\\n\", classification_report(y_test, y_pred_classes))"
      ]
    },
    {
      "cell_type": "markdown",
      "metadata": {
        "id": "i2d_jAnHsJja"
      },
      "source": [
        "# 5. Comparision of Accuracy, Precision and recall of three models (LR, RNN, BERT)\n"
      ]
    },
    {
      "cell_type": "markdown",
      "metadata": {
        "id": "eJmS98gusXdi"
      },
      "source": [
        "Printing LR, RNN Values"
      ]
    },
    {
      "cell_type": "code",
      "execution_count": 30,
      "metadata": {
        "colab": {
          "base_uri": "https://localhost:8080/"
        },
        "id": "NtNSaHbLslCx",
        "outputId": "5308119e-1f1d-4713-c2b0-9ec0791aea9e"
      },
      "outputs": [
        {
          "name": "stdout",
          "output_type": "stream",
          "text": [
            "\n",
            "==================================================\n",
            "LOGISTIC REGRESSION MODEL\n",
            "==================================================\n",
            "              precision    recall  f1-score   support\n",
            "\n",
            "           0       0.61      0.85      0.71       179\n",
            "           1       0.65      0.16      0.26        69\n",
            "           2       0.74      0.64      0.68       143\n",
            "\n",
            "    accuracy                           0.65       391\n",
            "   macro avg       0.66      0.55      0.55       391\n",
            "weighted avg       0.66      0.65      0.62       391\n",
            "\n",
            "\n",
            "==================================================\n",
            "RNN MODEL\n",
            "==================================================\n"
          ]
        },
        {
          "name": "stderr",
          "output_type": "stream",
          "text": [
            "/usr/local/lib/python3.11/dist-packages/keras/src/layers/core/embedding.py:90: UserWarning: Argument `input_length` is deprecated. Just remove it.\n",
            "  warnings.warn(\n"
          ]
        },
        {
          "name": "stdout",
          "output_type": "stream",
          "text": [
            "Epoch 1/10\n",
            "\u001b[1m49/49\u001b[0m \u001b[32m━━━━━━━━━━━━━━━━━━━━\u001b[0m\u001b[37m\u001b[0m \u001b[1m22s\u001b[0m 272ms/step - accuracy: 0.4464 - loss: 1.0758 - val_accuracy: 0.5601 - val_loss: 1.0048\n",
            "Epoch 2/10\n",
            "\u001b[1m49/49\u001b[0m \u001b[32m━━━━━━━━━━━━━━━━━━━━\u001b[0m\u001b[37m\u001b[0m \u001b[1m12s\u001b[0m 236ms/step - accuracy: 0.6120 - loss: 0.9621 - val_accuracy: 0.6164 - val_loss: 0.8659\n",
            "Epoch 3/10\n",
            "\u001b[1m49/49\u001b[0m \u001b[32m━━━━━━━━━━━━━━━━━━━━\u001b[0m\u001b[37m\u001b[0m \u001b[1m15s\u001b[0m 131ms/step - accuracy: 0.6989 - loss: 0.7118 - val_accuracy: 0.6343 - val_loss: 0.8732\n",
            "Epoch 4/10\n",
            "\u001b[1m49/49\u001b[0m \u001b[32m━━━━━━━━━━━━━━━━━━━━\u001b[0m\u001b[37m\u001b[0m \u001b[1m11s\u001b[0m 149ms/step - accuracy: 0.7865 - loss: 0.4469 - val_accuracy: 0.5831 - val_loss: 1.0235\n",
            "Epoch 5/10\n",
            "\u001b[1m49/49\u001b[0m \u001b[32m━━━━━━━━━━━━━━━━━━━━\u001b[0m\u001b[37m\u001b[0m \u001b[1m9s\u001b[0m 117ms/step - accuracy: 0.8919 - loss: 0.2808 - val_accuracy: 0.5090 - val_loss: 1.3049\n",
            "Epoch 6/10\n",
            "\u001b[1m49/49\u001b[0m \u001b[32m━━━━━━━━━━━━━━━━━━━━\u001b[0m\u001b[37m\u001b[0m \u001b[1m10s\u001b[0m 112ms/step - accuracy: 0.9227 - loss: 0.1894 - val_accuracy: 0.5652 - val_loss: 1.5951\n",
            "Epoch 7/10\n",
            "\u001b[1m49/49\u001b[0m \u001b[32m━━━━━━━━━━━━━━━━━━━━\u001b[0m\u001b[37m\u001b[0m \u001b[1m8s\u001b[0m 156ms/step - accuracy: 0.9664 - loss: 0.1210 - val_accuracy: 0.5371 - val_loss: 1.9451\n",
            "Epoch 8/10\n",
            "\u001b[1m49/49\u001b[0m \u001b[32m━━━━━━━━━━━━━━━━━━━━\u001b[0m\u001b[37m\u001b[0m \u001b[1m6s\u001b[0m 114ms/step - accuracy: 0.9740 - loss: 0.0831 - val_accuracy: 0.5013 - val_loss: 2.1832\n",
            "Epoch 9/10\n",
            "\u001b[1m49/49\u001b[0m \u001b[32m━━━━━━━━━━━━━━━━━━━━\u001b[0m\u001b[37m\u001b[0m \u001b[1m11s\u001b[0m 130ms/step - accuracy: 0.9776 - loss: 0.0528 - val_accuracy: 0.5524 - val_loss: 1.9718\n",
            "Epoch 10/10\n",
            "\u001b[1m49/49\u001b[0m \u001b[32m━━━━━━━━━━━━━━━━━━━━\u001b[0m\u001b[37m\u001b[0m \u001b[1m11s\u001b[0m 154ms/step - accuracy: 0.9900 - loss: 0.0394 - val_accuracy: 0.5985 - val_loss: 2.0269\n",
            "\u001b[1m13/13\u001b[0m \u001b[32m━━━━━━━━━━━━━━━━━━━━\u001b[0m\u001b[37m\u001b[0m \u001b[1m2s\u001b[0m 139ms/step\n",
            "              precision    recall  f1-score   support\n",
            "\n",
            "           0       0.71      0.63      0.66       179\n",
            "           1       0.34      0.58      0.43        69\n",
            "           2       0.71      0.57      0.63       143\n",
            "\n",
            "    accuracy                           0.60       391\n",
            "   macro avg       0.59      0.59      0.58       391\n",
            "weighted avg       0.64      0.60      0.61       391\n",
            "\n"
          ]
        }
      ],
      "source": [
        "import pandas as pd\n",
        "import numpy as np\n",
        "import matplotlib.pyplot as plt\n",
        "from sklearn.metrics import classification_report, accuracy_score\n",
        "from sklearn.model_selection import train_test_split\n",
        "from sklearn.linear_model import LogisticRegression\n",
        "from sklearn.feature_extraction.text import TfidfVectorizer\n",
        "import tensorflow as tf\n",
        "from transformers import BertTokenizer, TFBertForSequenceClassification\n",
        "\n",
        "# Load and preprocess data\n",
        "df = pd.read_json(\"/content/drive/MyDrive/train.json\", lines=True)\n",
        "df = df.dropna()\n",
        "\n",
        "# Text cleaning function\n",
        "def clean_text(text):\n",
        "    text = text.lower()\n",
        "    text = re.sub(r'\\\\W', ' ', text)\n",
        "    text = re.sub(r'\\\\s+', ' ', text).strip()\n",
        "    return text\n",
        "\n",
        "df[\"clean_claim\"] = df[\"claim\"].apply(clean_text)\n",
        "\n",
        "# Encode labels\n",
        "from sklearn.preprocessing import LabelEncoder\n",
        "label_encoder = LabelEncoder()\n",
        "df[\"label_encoded\"] = label_encoder.fit_transform(df[\"label\"])\n",
        "\n",
        "# Common train-test split\n",
        "X_train, X_test, y_train, y_test = train_test_split(\n",
        "    df[\"clean_claim\"], df[\"label_encoded\"],\n",
        "    test_size=0.2, random_state=42, stratify=df[\"label_encoded\"]\n",
        ")\n",
        "\n",
        "# 1. Logistic Regression Model\n",
        "print(\"\\n\" + \"=\"*50)\n",
        "print(\"LOGISTIC REGRESSION MODEL\")\n",
        "print(\"=\"*50)\n",
        "\n",
        "tfidf = TfidfVectorizer(max_features=5000)\n",
        "X_train_tfidf = tfidf.fit_transform(X_train)\n",
        "X_test_tfidf = tfidf.transform(X_test)\n",
        "\n",
        "lr_model = LogisticRegression(max_iter=1000)\n",
        "lr_model.fit(X_train_tfidf, y_train)\n",
        "lr_pred = lr_model.predict(X_test_tfidf)\n",
        "\n",
        "print(classification_report(y_test, lr_pred))\n",
        "lr_accuracy = accuracy_score(y_test, lr_pred)\n",
        "\n",
        "# 2. RNN Model\n",
        "print(\"\\n\" + \"=\"*50)\n",
        "print(\"RNN MODEL\")\n",
        "print(\"=\"*50)\n",
        "\n",
        "tokenizer = tf.keras.preprocessing.text.Tokenizer(num_words=5000)\n",
        "tokenizer.fit_on_texts(X_train)\n",
        "\n",
        "X_train_seq = tokenizer.texts_to_sequences(X_train)\n",
        "X_test_seq = tokenizer.texts_to_sequences(X_test)\n",
        "\n",
        "X_train_pad = tf.keras.preprocessing.sequence.pad_sequences(X_train_seq, maxlen=100)\n",
        "X_test_pad = tf.keras.preprocessing.sequence.pad_sequences(X_test_seq, maxlen=100)\n",
        "\n",
        "rnn_model = tf.keras.Sequential([\n",
        "    tf.keras.layers.Embedding(5000, 128, input_length=100),\n",
        "    tf.keras.layers.LSTM(64, return_sequences=True),\n",
        "    tf.keras.layers.LSTM(32),\n",
        "    tf.keras.layers.Dropout(0.5),\n",
        "    tf.keras.layers.Dense(32, activation='relu'),\n",
        "    tf.keras.layers.Dense(3, activation='softmax')\n",
        "])\n",
        "\n",
        "rnn_model.compile(loss='sparse_categorical_crossentropy', optimizer='adam', metrics=['accuracy'])\n",
        "rnn_model.fit(X_train_pad, y_train, epochs=10, batch_size=32, validation_data=(X_test_pad, y_test))\n",
        "\n",
        "rnn_pred = rnn_model.predict(X_test_pad)\n",
        "rnn_pred_classes = np.argmax(rnn_pred, axis=1)\n",
        "\n",
        "print(classification_report(y_test, rnn_pred_classes))\n",
        "rnn_accuracy = accuracy_score(y_test, rnn_pred_classes)"
      ]
    },
    {
      "cell_type": "markdown",
      "metadata": {
        "id": "-kHbi7kBsmkw"
      },
      "source": [
        "Comparision of Three Models"
      ]
    },
    {
      "cell_type": "code",
      "execution_count": 36,
      "metadata": {
        "colab": {
          "base_uri": "https://localhost:8080/"
        },
        "id": "HGvmJn_vmTyV",
        "outputId": "1d1c7ed1-7474-45b2-823e-275f4f16b709"
      },
      "outputs": [
        {
          "name": "stdout",
          "output_type": "stream",
          "text": [
            "\n",
            "==================================================\n",
            "MODEL ACCURACY COMPARISON\n",
            "==================================================\n",
            "Logistic Regression: 0.6496\n",
            "RNN: 0.5985\n",
            "BERT (MLP): 0.4373\n",
            "\n",
            "==================================================\n",
            "MODEL PRECISION COMPARISON\n",
            "==================================================\n",
            "Logistic Regression: 0.6620\n",
            "RNN: 0.6434\n",
            "BERT (MLP): 0.2435\n",
            "\n",
            "==================================================\n",
            "MODEL RECALL COMPARISON\n",
            "==================================================\n",
            "Logistic Regression: 0.6496\n",
            "RNN: 0.5985\n",
            "BERT (MLP): 0.4373\n"
          ]
        },
        {
          "name": "stderr",
          "output_type": "stream",
          "text": [
            "/usr/local/lib/python3.11/dist-packages/sklearn/metrics/_classification.py:1565: UndefinedMetricWarning: Precision is ill-defined and being set to 0.0 in labels with no predicted samples. Use `zero_division` parameter to control this behavior.\n",
            "  _warn_prf(average, modifier, f\"{metric.capitalize()} is\", len(result))\n",
            "/usr/local/lib/python3.11/dist-packages/sklearn/metrics/_classification.py:1565: UndefinedMetricWarning: Precision is ill-defined and being set to 0.0 in labels with no predicted samples. Use `zero_division` parameter to control this behavior.\n",
            "  _warn_prf(average, modifier, f\"{metric.capitalize()} is\", len(result))\n",
            "/usr/local/lib/python3.11/dist-packages/sklearn/metrics/_classification.py:1565: UndefinedMetricWarning: Precision is ill-defined and being set to 0.0 in labels with no predicted samples. Use `zero_division` parameter to control this behavior.\n",
            "  _warn_prf(average, modifier, f\"{metric.capitalize()} is\", len(result))\n"
          ]
        }
      ],
      "source": [
        "import pandas as pd\n",
        "from sklearn.metrics import accuracy_score, classification_report\n",
        "\n",
        "# Collect accuracy values\n",
        "model_accuracies = {\n",
        "    \"Logistic Regression\": lr_accuracy,\n",
        "    \"RNN\": rnn_accuracy,\n",
        "    \"BERT (MLP)\": test_acc\n",
        "}\n",
        "\n",
        "# Print accuracy comparison\n",
        "print(\"\\n\" + \"=\"*50)\n",
        "print(\"MODEL ACCURACY COMPARISON\")\n",
        "print(\"=\"*50)\n",
        "for model, acc in model_accuracies.items():\n",
        "    print(f\"{model}: {acc:.4f}\")\n",
        "\n",
        "# Extract precision and recall from classification reports\n",
        "lr_report = classification_report(y_test, lr_pred, output_dict=True)\n",
        "rnn_report = classification_report(y_test, rnn_pred_classes, output_dict=True)\n",
        "bert_report = classification_report(y_test, y_pred_classes, output_dict=True)\n",
        "\n",
        "precision_values = {\n",
        "    \"Logistic Regression\": lr_report[\"weighted avg\"][\"precision\"],\n",
        "    \"RNN\": rnn_report[\"weighted avg\"][\"precision\"],\n",
        "    \"BERT (MLP)\": bert_report[\"weighted avg\"][\"precision\"]\n",
        "}\n",
        "\n",
        "recall_values = {\n",
        "    \"Logistic Regression\": lr_report[\"weighted avg\"][\"recall\"],\n",
        "    \"RNN\": rnn_report[\"weighted avg\"][\"recall\"],\n",
        "    \"BERT (MLP)\": bert_report[\"weighted avg\"][\"recall\"]\n",
        "}\n",
        "\n",
        "# Print precision comparison\n",
        "print(\"\\n\" + \"=\"*50)\n",
        "print(\"MODEL PRECISION COMPARISON\")\n",
        "print(\"=\"*50)\n",
        "for model, prec in precision_values.items():\n",
        "    print(f\"{model}: {prec:.4f}\")\n",
        "\n",
        "# Print recall comparison\n",
        "print(\"\\n\" + \"=\"*50)\n",
        "print(\"MODEL RECALL COMPARISON\")\n",
        "print(\"=\"*50)\n",
        "for model, rec in recall_values.items():\n",
        "    print(f\"{model}: {rec:.4f}\")\n"
      ]
    },
    {
      "cell_type": "markdown",
      "metadata": {
        "id": "bGHhg0hytPlK"
      },
      "source": [
        "#Graph Comparision"
      ]
    },
    {
      "cell_type": "code",
      "execution_count": 37,
      "metadata": {
        "colab": {
          "base_uri": "https://localhost:8080/",
          "height": 564
        },
        "id": "qe_7Uzboq9zQ",
        "outputId": "3d1533f4-37f9-40a5-fe04-221d58a3fec5"
      },
      "outputs": [
        {
          "data": {
            "image/png": "[encoded data removed]",
            "text/plain": [
              "<Figure size 1000x600 with 1 Axes>"
            ]
          },
          "metadata": {},
          "output_type": "display_data"
        }
      ],
      "source": [
        "import matplotlib.pyplot as plt\n",
        "import numpy as np\n",
        "\n",
        "# Model names\n",
        "models = [\"Logistic Regression\", \"RNN\", \"BERT (MLP)\"]\n",
        "\n",
        "# Accuracy values\n",
        "accuracy_values = [lr_accuracy, rnn_accuracy, test_acc]\n",
        "\n",
        "# Precision values\n",
        "precision_values = [lr_report[\"weighted avg\"][\"precision\"],\n",
        "                    rnn_report[\"weighted avg\"][\"precision\"],\n",
        "                    bert_report[\"weighted avg\"][\"precision\"]]\n",
        "\n",
        "# Recall values\n",
        "recall_values = [lr_report[\"weighted avg\"][\"recall\"],\n",
        "                 rnn_report[\"weighted avg\"][\"recall\"],\n",
        "                 bert_report[\"weighted avg\"][\"recall\"]]\n",
        "\n",
        "# Set bar width\n",
        "bar_width = 0.2\n",
        "x = np.arange(len(models))\n",
        "\n",
        "# Create bar chart\n",
        "plt.figure(figsize=(10, 6))\n",
        "\n",
        "plt.bar(x - bar_width, accuracy_values, width=bar_width, label=\"Accuracy\", color=\"blue\")\n",
        "plt.bar(x, precision_values, width=bar_width, label=\"Precision\", color=\"green\")\n",
        "plt.bar(x + bar_width, recall_values, width=bar_width, label=\"Recall\", color=\"red\")\n",
        "\n",
        "# Add labels and title\n",
        "plt.xlabel(\"Models\")\n",
        "plt.ylabel(\"Scores\")\n",
        "plt.title(\"Comparison of Accuracy, Precision, and Recall\")\n",
        "plt.xticks(ticks=x, labels=models)\n",
        "plt.legend()\n",
        "\n",
        "# Show plot\n",
        "plt.show()\n"
      ]
    }
  ],
  "metadata": {
    "colab": {
      "provenance": []
    },
    "kernelspec": {
      "display_name": "Python 3",
      "name": "python3"
    },
    "language_info": {
      "name": "python"
    }
  },
  "nbformat": 4,
  "nbformat_minor": 0
}
